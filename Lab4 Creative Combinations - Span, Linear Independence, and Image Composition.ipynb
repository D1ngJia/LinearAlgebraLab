{
 "cells": [
  {
   "cell_type": "code",
   "execution_count": 35,
   "metadata": {},
   "outputs": [],
   "source": [
    "import sympy as sp\n",
    "import numpy as np\n",
    "from PIL import Image\n",
    "import matplotlib.pyplot as plt"
   ]
  },
  {
   "cell_type": "markdown",
   "metadata": {},
   "source": [
    "### 使用SymPy进行符号验证"
   ]
  },
  {
   "cell_type": "code",
   "execution_count": 13,
   "metadata": {},
   "outputs": [
    {
     "data": {
      "text/latex": [
       "$\\displaystyle \\left[\\begin{matrix}c_{1}\\\\c_{2}\\\\c_{3}\\end{matrix}\\right]$"
      ],
      "text/plain": [
       "Matrix([\n",
       "[c1],\n",
       "[c2],\n",
       "[c3]])"
      ]
     },
     "execution_count": 13,
     "metadata": {},
     "output_type": "execute_result"
    }
   ],
   "source": [
    "# 为系数定义符号变量\n",
    "c1, c2, c3 = sp.symbols('c1 c2 c3')\n",
    "c = sp.Matrix([c1, c2, c3])\n",
    "c"
   ]
  },
  {
   "cell_type": "code",
   "execution_count": 8,
   "metadata": {},
   "outputs": [
    {
     "data": {
      "text/latex": [
       "$\\displaystyle \\left[\\begin{matrix}1 & 0 & 0\\\\2 & -1 & 3\\\\0 & 1 & 0\\end{matrix}\\right]$"
      ],
      "text/plain": [
       "Matrix([\n",
       "[1,  0, 0],\n",
       "[2, -1, 3],\n",
       "[0,  1, 0]])"
      ]
     },
     "execution_count": 8,
     "metadata": {},
     "output_type": "execute_result"
    }
   ],
   "source": [
    "# 用线性无关列向量创建一个SymPy矩阵\n",
    "A_independent = sp.Matrix(\n",
    "    [[1, 0, 0],\n",
    "    [2, -1, 3],\n",
    "    [0 ,1 ,0]])\n",
    "A_independent"
   ]
  },
  {
   "cell_type": "code",
   "execution_count": 10,
   "metadata": {},
   "outputs": [
    {
     "data": {
      "text/latex": [
       "$\\displaystyle \\left[\\begin{matrix}c_{1}\\\\2 c_{1} - c_{2} + 3 c_{3}\\\\c_{2}\\end{matrix}\\right] = \\left[\\begin{matrix}0\\\\0\\\\0\\end{matrix}\\right]$"
      ],
      "text/plain": [
       "Eq(Matrix([\n",
       "[              c1],\n",
       "[2*c1 - c2 + 3*c3],\n",
       "[              c2]]), Matrix([\n",
       "[0],\n",
       "[0],\n",
       "[0]]))"
      ]
     },
     "execution_count": 10,
     "metadata": {},
     "output_type": "execute_result"
    }
   ],
   "source": [
    "# 构建一个齐次方程组 Ac = 0\n",
    "homogeneous_eq = sp.Eq(A_independent * c, sp.zeros(3, 1))\n",
    "homogeneous_eq"
   ]
  },
  {
   "cell_type": "code",
   "execution_count": 12,
   "metadata": {},
   "outputs": [
    {
     "name": "stdout",
     "output_type": "stream",
     "text": [
      "Solution for the independent case: {c1: 0, c2: 0, c3: 0}\n"
     ]
    }
   ],
   "source": [
    "# 解系数未知数方程\n",
    "solution = sp.solve(homogeneous_eq, (c1, c2, c3))\n",
    "print(f\"Solution for the independent case: {solution}\")"
   ]
  },
  {
   "cell_type": "code",
   "execution_count": 16,
   "metadata": {},
   "outputs": [
    {
     "name": "stdout",
     "output_type": "stream",
     "text": [
      "Solution for the dependent case: {c1: 0, c2: 3*c3}\n"
     ]
    }
   ],
   "source": [
    "# 线性相关的情况\n",
    "# todo\n",
    "# 用线性无关列向量创建一个SymPy矩阵\n",
    "A_dependent = sp.Matrix(\n",
    "    [[1, 0, 0],\n",
    "    [2, -1, 3],\n",
    "    [3 ,-1 ,3]])\n",
    "\n",
    "homogeneous_eq_dep = sp.Eq(A_dependent * c, sp.zeros(3, 1))\n",
    "solution_dep = sp.solve(homogeneous_eq_dep, (c1, c2, c3))\n",
    "print(f\"Solution for the dependent case: {solution_dep}\")"
   ]
  },
  {
   "cell_type": "markdown",
   "metadata": {},
   "source": [
    "### 两种检验方法对比"
   ]
  },
  {
   "cell_type": "code",
   "execution_count": 17,
   "metadata": {},
   "outputs": [],
   "source": [
    "def is_independent_det(matrix, tolerance=1e-9):\n",
    "    \"\"\"\n",
    "    使用行列式检验线性相关性\n",
    "    WARNING: This method is numerically unstable.\n",
    "    \"\"\"\n",
    "    if matrix.shape!= matrix.shape:\n",
    "        print(\"Determinant method only works for square matrices.\")\n",
    "        return False\n",
    "    \n",
    "    det = np.linalg.det(matrix)\n",
    "    return abs(det) > tolerance"
   ]
  },
  {
   "cell_type": "code",
   "execution_count": 25,
   "metadata": {},
   "outputs": [],
   "source": [
    "def is_independent_rank(matrix):\n",
    "    \"\"\"\n",
    "    使用矩阵的秩检验线性相关\n",
    "    This is the numerically stable and recommended method.\n",
    "    \"\"\"\n",
    "    rank = np.linalg.matrix_rank(matrix)\n",
    "    num_vectors = matrix.shape[1]\n",
    "    return rank == num_vectors"
   ]
  },
  {
   "cell_type": "code",
   "execution_count": 31,
   "metadata": {},
   "outputs": [
    {
     "name": "stdout",
     "output_type": "stream",
     "text": [
      "[[1.e+00 1.e+00]\n",
      " [0.e+00 1.e-10]]\n"
     ]
    }
   ],
   "source": [
    "# 测试\n",
    "v1 = np.array([1, 0])\n",
    "v2 = np.array([1, 1e-10])\n",
    "\n",
    "A = np.column_stack((v1, v2))\n",
    "print(A)"
   ]
  },
  {
   "cell_type": "code",
   "execution_count": 32,
   "metadata": {},
   "outputs": [
    {
     "data": {
      "text/plain": [
       "False"
      ]
     },
     "execution_count": 32,
     "metadata": {},
     "output_type": "execute_result"
    }
   ],
   "source": [
    "is_independent_det(A, tolerance=1e-9)"
   ]
  },
  {
   "cell_type": "code",
   "execution_count": 33,
   "metadata": {},
   "outputs": [
    {
     "data": {
      "text/plain": [
       "True"
      ]
     },
     "execution_count": 33,
     "metadata": {},
     "output_type": "execute_result"
    }
   ],
   "source": [
    "is_independent_rank(A)"
   ]
  },
  {
   "cell_type": "markdown",
   "metadata": {},
   "source": [
    "### 图像的线性组合"
   ]
  },
  {
   "cell_type": "code",
   "execution_count": 40,
   "metadata": {},
   "outputs": [
    {
     "name": "stdout",
     "output_type": "stream",
     "text": [
      "所有图像已生成并保存成功！\n"
     ]
    },
    {
     "data": {
      "image/png": "[encoded data removed]",
      "text/plain": [
       "<Figure size 1200x400 with 3 Axes>"
      ]
     },
     "metadata": {},
     "output_type": "display_data"
    },
    {
     "name": "stdout",
     "output_type": "stream",
     "text": [
      "矩阵A的形状: (1024, 2)\n",
      "目标向量t的形状: (1024,)\n",
      "计算得到的系数: [0.9409458 0.9409458]\n",
      "残差: [3.5571477]\n",
      "矩阵A的秩: 2\n"
     ]
    },
    {
     "data": {
      "image/png": "[encoded data removed]",
      "text/plain": [
       "<Figure size 1000x500 with 2 Axes>"
      ]
     },
     "metadata": {},
     "output_type": "display_data"
    },
    {
     "name": "stdout",
     "output_type": "stream",
     "text": [
      "重构均方误差(MSE): 0.003473777323961258\n"
     ]
    }
   ],
   "source": [
    "import os\n",
    "\n",
    "image_dir = \"./images/lab4\"\n",
    "os.makedirs(image_dir, exist_ok=True)\n",
    "\n",
    "# =============================================================================\n",
    "# 步骤1: 设置和数据生成\n",
    "# =============================================================================\n",
    "\n",
    "def create_and_save_images():\n",
    "    \"\"\"\n",
    "    生成并保存基图像和目标图像\n",
    "    创建32x32像素的灰度图像，包括水平线、垂直线、加号等\n",
    "    \"\"\"\n",
    "\n",
    "    # 设置图像尺寸\n",
    "    image_size = (32, 32)\n",
    "    \n",
    "    # 创建水平线图像\n",
    "    # 在图像的第15-16行设置为白色(255)，其余为黑色(0)\n",
    "    h_line = np.zeros(image_size, dtype=np.uint8)\n",
    "    h_line[15:17, :] = 255  # 设置第15-16行为白色\n",
    "    Image.fromarray(h_line).save(f\"{image_dir}/horizontal_line.png\")\n",
    "    \n",
    "    # 创建垂直线图像\n",
    "    # 在图像的第15-16列设置为白色(255)\n",
    "    v_line = np.zeros(image_size, dtype=np.uint8)\n",
    "    v_line[:, 15:17] = 255  # 设置第15-16列为白色\n",
    "    Image.fromarray(v_line).save(f\"{image_dir}/vertical_line.png\")\n",
    "    \n",
    "    # 创建加号目标图像\n",
    "    # 加号是水平线和垂直线的组合\n",
    "    plus = h_line + v_line\n",
    "    Image.fromarray(plus).save(f\"{image_dir}/plus.png\")\n",
    "    \n",
    "    # 创建对角线图像（可选，用于后续扩展）\n",
    "    diag = np.zeros(image_size, dtype=np.uint8)\n",
    "    for i in range(32):\n",
    "        diag[i, i] = 255\n",
    "        if i+1 < 32:\n",
    "            diag[i, i+1] = 255\n",
    "    Image.fromarray(diag).save(f\"{image_dir}/diagonal_line.png\")\n",
    "    \n",
    "    # 创建反对角线图像\n",
    "    anti_diag = np.zeros(image_size, dtype=np.uint8)\n",
    "    for i in range(32):\n",
    "        anti_diag[i, 31-i] = 255\n",
    "        if 31-i-1 >= 0:\n",
    "            anti_diag[i, 31-i-1] = 255\n",
    "    Image.fromarray(anti_diag).save(f\"{image_dir}/anti_diagonal_line.png\")\n",
    "    \n",
    "    # 创建X形目标图像\n",
    "    x_shape = diag + anti_diag\n",
    "    Image.fromarray(x_shape).save(f\"{image_dir}/x_shape.png\")\n",
    "    \n",
    "    print(\"所有图像已生成并保存成功！\")\n",
    "\n",
    "# 执行图像生成函数\n",
    "create_and_save_images()\n",
    "\n",
    "# =============================================================================\n",
    "# 步骤2: 加载和可视化数据\n",
    "# =============================================================================\n",
    "\n",
    "# 加载图像文件\n",
    "h_line_img = plt.imread(f\"{image_dir}/horizontal_line.png\")\n",
    "v_line_img = plt.imread(f\"{image_dir}/vertical_line.png\")\n",
    "plus_img = plt.imread(f\"{image_dir}/plus.png\")\n",
    "\n",
    "# 创建可视化子图\n",
    "fig, axes = plt.subplots(1, 3, figsize=(12, 4))\n",
    "\n",
    "# 显示水平线基图像\n",
    "axes[0].imshow(h_line_img, cmap='gray')\n",
    "axes[0].set_title('Basis 1: Horizontal Line')\n",
    "axes[0].axis('off')\n",
    "\n",
    "# 显示垂直线基图像\n",
    "axes[1].imshow(v_line_img, cmap='gray')\n",
    "axes[1].set_title('Basis 2: Vertical Line')\n",
    "axes[1].axis('off')\n",
    "\n",
    "# 显示目标图像（加号）\n",
    "axes[2].imshow(plus_img, cmap='gray')\n",
    "axes[2].set_title('Target: Plus Sign')\n",
    "axes[2].axis('off')\n",
    "\n",
    "plt.tight_layout()\n",
    "plt.show()\n",
    "\n",
    "# =============================================================================\n",
    "# 步骤3: 矢量化和系统组装\n",
    "# =============================================================================\n",
    "\n",
    "# 基图像文件名列表\n",
    "basis_filenames = [f'{image_dir}/horizontal_line.png', f'{image_dir}/vertical_line.png']\n",
    "target_filename = f'{image_dir}/plus.png'\n",
    "\n",
    "# 矢量化基图像并构建矩阵A\n",
    "# 将每个基图像展平为一维向量，然后按列堆叠成矩阵\n",
    "basis_vectors = []\n",
    "for filename in basis_filenames:\n",
    "    # 加载图像并展平为向量\n",
    "    img_vector = plt.imread(filename).flatten()\n",
    "    basis_vectors.append(img_vector)\n",
    "\n",
    "# 将基向量堆叠成矩阵A（每列是一个基向量）\n",
    "A = np.column_stack(basis_vectors)\n",
    "\n",
    "# 矢量化目标图像\n",
    "t = plt.imread(target_filename).flatten()\n",
    "\n",
    "# 打印矩阵和向量的形状信息\n",
    "print(f\"矩阵A的形状: {A.shape}\")  # 应该是(1024, 2)，因为32x32=1024像素，2个基图像\n",
    "print(f\"目标向量t的形状: {t.shape}\")  # 应该是(1024,)\n",
    "\n",
    "# =============================================================================\n",
    "# 步骤4: 用最小二乘法求解系数\n",
    "# =============================================================================\n",
    "\n",
    "# 使用最小二乘法求解线性系统 A*c = t\n",
    "# 这种方法对于目标图像可能不完全在基图像张成空间中的情况具有鲁棒性\n",
    "c, residuals, rank, s = np.linalg.lstsq(A, t, rcond=None)\n",
    "\n",
    "# 打印计算得到的系数\n",
    "print(f\"计算得到的系数: {c}\")\n",
    "print(f\"残差: {residuals}\")  # 残差表示拟合的误差大小\n",
    "print(f\"矩阵A的秩: {rank}\")  # 矩阵的秩表示线性无关的列数\n",
    "\n",
    "# =============================================================================\n",
    "# 步骤5: 重建与验证\n",
    "# =============================================================================\n",
    "\n",
    "# 使用求得的系数重构目标图像\n",
    "# 计算线性组合: 重构向量 = c1*水平线 + c2*垂直线\n",
    "reconstructed_vector = A @ c  # 矩阵乘法计算线性组合\n",
    "\n",
    "# 将重构的向量重新整形为32x32图像\n",
    "reconstructed_img = reconstructed_vector.reshape(32, 32)\n",
    "\n",
    "# 创建可视化比较图\n",
    "fig, axes = plt.subplots(1, 2, figsize=(10, 5))\n",
    "\n",
    "# 显示原始目标图像\n",
    "axes[0].imshow(plus_img, cmap='gray')\n",
    "axes[0].set_title('Original Target Image')\n",
    "axes[0].axis('off')\n",
    "\n",
    "# 显示重构图像\n",
    "axes[1].imshow(reconstructed_img, cmap='gray')\n",
    "axes[1].set_title('Reconstructed Image')\n",
    "axes[1].axis('off')\n",
    "\n",
    "plt.tight_layout()\n",
    "plt.show()\n",
    "\n",
    "# 计算重构误差（均方误差）\n",
    "mse = np.mean((plus_img - reconstructed_img) ** 2)\n",
    "print(f\"重构均方误差(MSE): {mse}\")\n",
    "\n"
   ]
  },
  {
   "cell_type": "markdown",
   "metadata": {},
   "source": [
    "问题：假设你的某个基图像本身就是另外两个基图像的线性组合(例如，\"加号\"作为基图像与水平线和垂直线一起被包含在内)。这将如何影响矩阵A的秩?当试图找到一个唯一的系数向量c来重构目标图像时，你可能会遇到什么问题?\n",
    "\n",
    "回答：\n",
    "\n",
    "1. 对矩阵A秩的影响：\n",
    "   如果基图像集合中包含线性相关的图像（比如同时包含水平线、垂直线和加号），那么矩阵A的列将不是线性无关的。\n",
    "   具体来说，加号图像可以表示为水平线和垂直线的线性组合（加号 = 水平线 + 垂直线）。\n",
    "   在这种情况下，矩阵A的秩会小于基图像的数量。如果原本有3个基图像但其中一个是另外两个的线性组合，那么矩阵A的秩最多为2。\n",
    "\n",
    "2. 求解唯一系数向量时可能遇到的问题：\n",
    "   a) 解不唯一：当矩阵A的列线性相关时，线性系统 A*c = t 可能有无穷多解。\n",
    "      这意味着存在多个不同的系数组合都可以精确重构目标图像。\n",
    "   \n",
    "   b) 数值稳定性问题：即使使用最小二乘法，当矩阵接近奇异（秩亏）时，求解过程可能变得不稳定，\n",
    "      对小的噪声或数值误差非常敏感。\n",
    "   \n",
    "   c) 物理意义不明确：在图像重构应用中，我们希望系数能够反映每个基图像对目标图像的贡献程度。\n",
    "      当基图像线性相关时，这种解释变得模糊不清。\n",
    "\n",
    "3. 实际影响：\n",
    "   在实际的图像重构任务中，我们应该选择一组线性无关的基图像来确保矩阵A是列满秩的。\n",
    "   这样可以保证系数解的唯一性和稳定性，同时也使得每个基图像的贡献具有明确的物理意义。\n",
    "\n",
    "结论：基图像的选择应该确保它们彼此线性无关，这样才能构建一个良定的重构问题。"
   ]
  }
 ],
 "metadata": {
  "kernelspec": {
   "display_name": "datascience",
   "language": "python",
   "name": "python3"
  },
  "language_info": {
   "codemirror_mode": {
    "name": "ipython",
    "version": 3
   },
   "file_extension": ".py",
   "mimetype": "text/x-python",
   "name": "python",
   "nbconvert_exporter": "python",
   "pygments_lexer": "ipython3",
   "version": "3.11.5"
  }
 },
 "nbformat": 4,
 "nbformat_minor": 2
}
